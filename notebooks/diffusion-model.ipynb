{
 "cells": [
  {
   "cell_type": "markdown",
   "id": "8c8aed8a-f60f-4c80-bc40-aa2e343f3a85",
   "metadata": {},
   "source": [
    "# A 1D diffusion model "
   ]
  },
  {
   "cell_type": "markdown",
   "id": "3e486bb3-bc44-4046-bb91-7b1c73e35c66",
   "metadata": {},
   "source": [
    "Here we develop a one-dimensional model of diffusion.\n",
    "It assumes a constant diffusivity. \n",
    "It uses a regular grid.\n",
    "It has a step function for an initial condition.\n",
    "It has fixed boundary conditions."
   ]
  },
  {
   "cell_type": "markdown",
   "id": "a3d65eb4-2288-4417-8e8d-92c5c2e97c6e",
   "metadata": {},
   "source": [
    "Here is the diffusion equation:"
   ]
  },
  {
   "cell_type": "markdown",
   "id": "3dc55319-c444-46c1-8bfb-b4f5aa9ddb57",
   "metadata": {},
   "source": [
    "$$ \\frac{\\partial C}{\\partial t} = D\\frac{\\partial^2 C}{\\partial x^2} $$"
   ]
  },
  {
   "cell_type": "markdown",
   "id": "f478ea90-4cff-4f2a-bbba-c731f98fd1c4",
   "metadata": {},
   "source": [
    "Here is the discretized version of the diffusion equation we will solve with our model:"
   ]
  },
  {
   "cell_type": "markdown",
   "id": "99cc69d7-a883-4b5a-b303-42652b2fdf8c",
   "metadata": {},
   "source": [
    "$$ C^{t+1}_x = C^t_x + {D \\Delta t \\over \\Delta x^2} (C^t_{x+1} - 2C^t_x + C^t_{x-1}) $$"
   ]
  },
  {
   "cell_type": "markdown",
   "id": "aa1c0a48-41dd-4f8e-ab70-a217999b3bd3",
   "metadata": {},
   "source": [
    "This is the FTCS scheme as described by Slingerland and Kump (2011)."
   ]
  },
  {
   "cell_type": "markdown",
   "id": "087277d1-6f39-428b-a4c1-713a5a5646ff",
   "metadata": {},
   "source": [
    "We'll use two libraries, NumPy (for arrays) and Matplotlib (for plotting), that aren't a part of the core Python distribution."
   ]
  },
  {
   "cell_type": "code",
   "execution_count": null,
   "id": "50fd146a-a624-47fb-badf-68dc319f7808",
   "metadata": {},
   "outputs": [],
   "source": [
    "import numpy as np\n",
    "import matplotlib.pyplot as plt"
   ]
  },
  {
   "cell_type": "markdown",
   "id": "e1577d3b-c920-4a37-99dd-5583f73bd014",
   "metadata": {},
   "source": [
    "Start by setting a few model parameters, the difusivity and size of the model domain"
   ]
  },
  {
   "cell_type": "code",
   "execution_count": null,
   "id": "f605cede-e4d1-459a-9b4c-c3a5a4633329",
   "metadata": {},
   "outputs": [],
   "source": [
    "D = 100 #Difusivity\n",
    "Lx = 300 #Size of model domain"
   ]
  },
  {
   "cell_type": "markdown",
   "id": "a46bff86-0acd-406c-a97e-c1275fe6564f",
   "metadata": {},
   "source": [
    "Next, set up the model grid using a NumPy array"
   ]
  },
  {
   "cell_type": "code",
   "execution_count": null,
   "id": "270fba8b-f9fa-445d-86a0-0cae34689f2d",
   "metadata": {},
   "outputs": [],
   "source": [
    "dx = 0.5\n",
    "x = np.arange(start = 0, stop = Lx, step = dx)\n",
    "nx = len(x)"
   ]
  },
  {
   "cell_type": "markdown",
   "id": "c3ec555c-57d3-4778-a569-0ca1f0f5e033",
   "metadata": {},
   "source": [
    "Set the initial conditions for the model\n",
    "The cake 'C' is a step function with a high value of the left, a low value on the right and a step at the center of the domain"
   ]
  },
  {
   "cell_type": "code",
   "execution_count": null,
   "id": "5805a4af-cf72-4322-8dad-a01d2ec53537",
   "metadata": {},
   "outputs": [],
   "source": [
    "C = np.zeros_like(x)\n",
    "C_left = 500 \n",
    "C_right = 0\n",
    "C[x <= (Lx / 2)] = C_left\n",
    "C[x > (Lx / 2)] = C_right"
   ]
  },
  {
   "cell_type": "markdown",
   "id": "3b92f3f2-6fca-4d37-8f46-848d2725baa2",
   "metadata": {},
   "source": [
    "Plot the initial profile"
   ]
  },
  {
   "cell_type": "code",
   "execution_count": null,
   "id": "f139775c-4b06-466a-a7c7-4cca8ffe8268",
   "metadata": {},
   "outputs": [],
   "source": [
    "plt.figure()\n",
    "plt.plot(x, C, \"r\")\n",
    "plt.xlabel(\"x\")\n",
    "plt.ylabel(\"c\")\n",
    "plt.title(\"Initial Profile\")"
   ]
  },
  {
   "cell_type": "markdown",
   "id": "3b965c94-d4c6-4b9c-9546-1fa7ec36bc2a",
   "metadata": {},
   "source": [
    "Set the number of time steps in the model. \n",
    "Calculate a stable time step using stability criterion"
   ]
  },
  {
   "cell_type": "code",
   "execution_count": null,
   "id": "e96df44c-9081-46d5-92c5-8bbab880294b",
   "metadata": {},
   "outputs": [],
   "source": [
    "nt = 5000\n",
    "dt = 0.5 * dx ** 2 / D"
   ]
  },
  {
   "cell_type": "code",
   "execution_count": null,
   "id": "014db964-d394-4e2c-92ae-1ce15c0d7b8f",
   "metadata": {},
   "outputs": [],
   "source": [
    "dt"
   ]
  },
  {
   "cell_type": "markdown",
   "id": "4d8f2942-c1fe-4ada-bb04-77b1e1969a73",
   "metadata": {},
   "source": [
    "Loop over the time steps of the model, solving the diffusion equation using the FTCS scheme shown above. \n",
    "Note the use of the array operation on the variable 'C'.\n",
    "The boundary conditions remain fixed in each time step"
   ]
  },
  {
   "cell_type": "code",
   "execution_count": null,
   "id": "1c8ca311-09ad-4c91-9bf1-1d183db66e99",
   "metadata": {},
   "outputs": [],
   "source": [
    "for t in range(0, nt):\n",
    "    C[1:-1] += D * dt / dx ** 2 * (C[:-2] - 2*C[1:-1] + C[2:])"
   ]
  },
  {
   "cell_type": "markdown",
   "id": "78595874-1532-491b-b677-ffdc005bd2dd",
   "metadata": {},
   "source": [
    "Plot the results"
   ]
  },
  {
   "cell_type": "code",
   "execution_count": null,
   "id": "2f66ce3d-3fed-4b21-9639-fe0dbb63bd22",
   "metadata": {},
   "outputs": [],
   "source": [
    "plt.plot(x, C, \"b\")\n",
    "plt.xlabel(\"x\")\n",
    "plt.ylabel(\"C\")\n",
    "plt.title(\"Final profile\")"
   ]
  }
 ],
 "metadata": {
  "kernelspec": {
   "display_name": "Ivy",
   "language": "python",
   "name": "ivy"
  },
  "language_info": {
   "codemirror_mode": {
    "name": "ipython",
    "version": 3
   },
   "file_extension": ".py",
   "mimetype": "text/x-python",
   "name": "python",
   "nbconvert_exporter": "python",
   "pygments_lexer": "ipython3",
   "version": "3.13.3"
  }
 },
 "nbformat": 4,
 "nbformat_minor": 5
}
